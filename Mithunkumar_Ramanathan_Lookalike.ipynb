{
 "cells": [
  {
   "cell_type": "code",
   "execution_count": null,
   "id": "fd9eb1d9",
   "metadata": {},
   "outputs": [],
   "source": []
  },
  {
   "cell_type": "code",
   "execution_count": 15,
   "id": "5dc3e7bd",
   "metadata": {},
   "outputs": [],
   "source": [
    "import pandas as pd\n",
    "from sklearn.feature_extraction.text import TfidfVectorizer\n",
    "from sklearn.metrics.pairwise import cosine_similarity\n",
    "\n",
    "customers = pd.read_csv('D://Projects//Zeotap Assessment//Customers.csv')\n",
    "products = pd.read_csv('D://Projects//Zeotap Assessment//Products.csv')\n",
    "transactions = pd.read_csv('D://Projects//Zeotap Assessment//Transactions.csv')\n",
    "\n",
    "merged_data = transactions.merge(customers, on='CustomerID').merge(products, on='ProductID')\n",
    "\n",
    "merged_data['CustomerFeatures'] = (\n",
    "    merged_data['Region'] + ' ' +\n",
    "    merged_data['ProductName'] + ' ' +\n",
    "    merged_data['Category']\n",
    ")\n",
    "\n",
    "\n",
    "customer_profiles = merged_data.groupby('CustomerID')['CustomerFeatures'].apply(lambda x: ' '.join(x)).reset_index()\n",
    "\n",
    "# I used TF-IDF Vectorization to converts textual data into numerical form for similarity calculations\n",
    "# I used Cosine similarity as it computes the similarity between customers based on their profiles.\n",
    "vectorizer = TfidfVectorizer()\n",
    "customer_vectors = vectorizer.fit_transform(customer_profiles['CustomerFeatures'])\n",
    "\n",
    "similarity_matrix = cosine_similarity(customer_vectors)\n",
    "\n",
    "# Finding the top 3 similar customers for the first 20 customers (C0001 to C0020) and storing their similarity scores.\n",
    "lookalike_map = {}\n",
    "customer_ids = customer_profiles['CustomerID'].tolist()\n",
    "\n",
    "for idx, customer_id in enumerate(customer_ids[:20]):\n",
    "    similarity_scores = list(enumerate(similarity_matrix[idx]))\n",
    "    similarity_scores = sorted(similarity_scores, key=lambda x: x[1], reverse=True)\n",
    "    \n",
    "    top_lookalikes = [(customer_ids[i], score) for i, score in similarity_scores if customer_ids[i] != customer_id][:3]\n",
    "    lookalike_map[customer_id] = top_lookalikes\n",
    "\n",
    "# Converting lookalike map to dataframe for obtaining csv file\n",
    "lookalike_list = []\n",
    "for cust_id, lookalikes in lookalike_map.items():\n",
    "    lookalike_list.append({\n",
    "        'CustomerID': cust_id,\n",
    "        'Lookalikes': str(lookalikes)\n",
    "    })\n",
    "\n",
    "lookalike_df = pd.DataFrame(lookalike_list)\n",
    "lookalike_df.to_csv('D://Projects//Zeotap Assessment//Mithunkumar_Ramanathan_Lookalike.csv', index=False)"
   ]
  },
  {
   "cell_type": "code",
   "execution_count": null,
   "id": "ed2e2d40",
   "metadata": {},
   "outputs": [],
   "source": []
  }
 ],
 "metadata": {
  "kernelspec": {
   "display_name": "Python 3 (ipykernel)",
   "language": "python",
   "name": "python3"
  },
  "language_info": {
   "codemirror_mode": {
    "name": "ipython",
    "version": 3
   },
   "file_extension": ".py",
   "mimetype": "text/x-python",
   "name": "python",
   "nbconvert_exporter": "python",
   "pygments_lexer": "ipython3",
   "version": "3.11.4"
  }
 },
 "nbformat": 4,
 "nbformat_minor": 5
}
